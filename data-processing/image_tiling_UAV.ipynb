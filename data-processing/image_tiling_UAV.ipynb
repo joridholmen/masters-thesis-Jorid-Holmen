{
 "cells": [
  {
   "cell_type": "code",
   "execution_count": null,
   "metadata": {},
   "outputs": [],
   "source": [
    "import cv2\n",
    "import os\n",
    "import numpy as np\n"
   ]
  },
  {
   "cell_type": "code",
   "execution_count": null,
   "metadata": {},
   "outputs": [],
   "source": [
    "def is_mostly_white(tile, threshold=240, white_ratio=0.9):\n",
    "    gray = cv2.cvtColor(tile, cv2.COLOR_BGR2GRAY)\n",
    "    white_pixels = np.sum(gray > threshold)\n",
    "    total_pixels = gray.size\n",
    "    return (white_pixels / total_pixels) > white_ratio"
   ]
  },
  {
   "cell_type": "code",
   "execution_count": null,
   "metadata": {},
   "outputs": [],
   "source": [
    "def tile_splitter(image_path, tile_size, output_dir):\n",
    "    os.makedirs(output_dir, exist_ok=True)\n",
    "\n",
    "    image = cv2.imread(image_path)\n",
    "    height, width = image.shape[:2]\n",
    "    img_name = os.path.basename(image_path).split('.')[0]\n",
    "\n",
    "    saved_tiles = 0\n",
    "    for y in range(0, height, tile_size):\n",
    "        for x in range(0, width, tile_size):\n",
    "            tile = image[y:y + tile_size, x:x + tile_size]\n",
    "\n",
    "            if tile.shape[0] < tile_size or tile.shape[1] < tile_size:\n",
    "                continue\n",
    "\n",
    "            if is_mostly_white(tile):\n",
    "                continue\n",
    "\n",
    "            tile_filename = f\"{img_name}_x{x}_y{y}.png\"\n",
    "            cv2.imwrite(os.path.join(output_dir, tile_filename), tile)\n",
    "            saved_tiles += 1\n",
    "\n",
    "    print(f\"Saved {saved_tiles} tiles in {output_dir}/\")\n"
   ]
  },
  {
   "cell_type": "code",
   "execution_count": null,
   "metadata": {},
   "outputs": [],
   "source": [
    "img_files = ['WENR_ortho_Rumex_10m_1_nw.png', 'WENR_ortho_Rumex_10m_2_sw.png', 'WENR_ortho_Rumex_10m_3_ne.png', \n",
    "             'WENR_ortho_Rumex_10m_4_se.png', 'WENR_ortho_Rumex_10m_2_sw.png', 'WENR_ortho_Rumex_10m_4_se.png']\n",
    "output_dir = 'cocodronedata/images/test'\n",
    "\n",
    "for img_file in img_files:\n",
    "    img_path = f'dataset/{img_file}'\n",
    "    tile_splitter(img_path, 640, output_dir)"
   ]
  }
 ],
 "metadata": {
  "kernelspec": {
   "display_name": "Python 3",
   "language": "python",
   "name": "python3"
  },
  "language_info": {
   "codemirror_mode": {
    "name": "ipython",
    "version": 3
   },
   "file_extension": ".py",
   "mimetype": "text/x-python",
   "name": "python",
   "nbconvert_exporter": "python",
   "pygments_lexer": "ipython3",
   "version": "3.9.6"
  }
 },
 "nbformat": 4,
 "nbformat_minor": 2
}
