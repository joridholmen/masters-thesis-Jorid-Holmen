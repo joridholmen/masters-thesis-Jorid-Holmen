{
 "cells": [
  {
   "cell_type": "code",
   "execution_count": null,
   "metadata": {},
   "outputs": [],
   "source": [
    "import xml.etree.ElementTree as ET\n",
    "import os"
   ]
  },
  {
   "cell_type": "code",
   "execution_count": null,
   "metadata": {},
   "outputs": [],
   "source": [
    "def annotation_converter(xml_path, image_dir, output_dir):\n",
    "    tree = ET.parse(xml_path)\n",
    "    root = tree.getroot()\n",
    "\n",
    "    IMG_W = int(root.find(\"size/width\").text)\n",
    "    IMG_H = int(root.find(\"size/height\").text)\n",
    "    TILE_SIZE = 640\n",
    "    os.makedirs(output_dir, exist_ok=True)\n",
    "\n",
    "    image_names = set(img.split('.')[0] for img in os.listdir(image_dir))\n",
    "\n",
    "    boxes = []\n",
    "    for obj in root.findall(\"object\"):\n",
    "        if obj.find(\"name\").text != \"rumex\":\n",
    "            continue\n",
    "        bbox = obj.find(\"bndbox\")\n",
    "        xmin = int(bbox.find(\"xmin\").text)\n",
    "        ymin = int(bbox.find(\"ymin\").text)\n",
    "        xmax = int(bbox.find(\"xmax\").text)\n",
    "        ymax = int(bbox.find(\"ymax\").text)\n",
    "        boxes.append((xmin, ymin, xmax, ymax))\n",
    "\n",
    "    xml_name = os.path.basename(xml_path).split('.')[0]\n",
    "\n",
    "    for y in range(0, IMG_H, TILE_SIZE):\n",
    "        for x in range(0, IMG_W, TILE_SIZE):\n",
    "            if y + TILE_SIZE > IMG_H or x + TILE_SIZE > IMG_W:\n",
    "                continue\n",
    "\n",
    "            tile_base = f\"{xml_name}_x{x}_y{y}\"\n",
    "            if tile_base not in image_names:\n",
    "                continue\n",
    "\n",
    "            tile_boxes = []\n",
    "            for xmin, ymin, xmax, ymax in boxes:\n",
    "                if xmax < x or xmin > x + TILE_SIZE or ymax < y or ymin > y + TILE_SIZE:\n",
    "                    continue\n",
    "\n",
    "                x1 = max(xmin, x)\n",
    "                y1 = max(ymin, y)\n",
    "                x2 = min(xmax, x + TILE_SIZE)\n",
    "                y2 = min(ymax, y + TILE_SIZE)\n",
    "\n",
    "                cx = (x1 + x2) / 2 - x\n",
    "                cy = (y1 + y2) / 2 - y\n",
    "                w = x2 - x1\n",
    "                h = y2 - y1\n",
    "\n",
    "                tile_boxes.append((0, cx / TILE_SIZE, cy / TILE_SIZE, w / TILE_SIZE, h / TILE_SIZE))\n",
    "\n",
    "            label_file = os.path.join(output_dir, tile_base + \".txt\")\n",
    "            with open(label_file, \"w\") as f:\n",
    "                for box in tile_boxes:\n",
    "                    f.write(f\"{box[0]} \" + \" \".join(f\"{val:.6f}\" for val in box[1:]) + \"\\n\")\n",
    "\n",
    "    print(f\"Annotation files saved in {output_dir}/\")\n"
   ]
  },
  {
   "cell_type": "code",
   "execution_count": null,
   "metadata": {},
   "outputs": [],
   "source": [
    "xml_files = ['WENR_ortho_Rumex_10m_1_nw.xml', 'WENR_ortho_Rumex_10m_2_sw.xml', 'WENR_ortho_Rumex_10m_3_ne.xml', \n",
    "             'WENR_ortho_Rumex_10m_4_se.xml', 'WENR_ortho_Rumex_10m_2_sw.xml', 'WENR_ortho_Rumex_10m_4_se.xml']\n",
    "output_dir = 'cocodronedata/labels/test'\n",
    "image_path = 'cocodronedata/images/test'\n",
    "\n",
    "for xml_file in xml_files:\n",
    "    xml_path = f'dataset/{xml_file}'\n",
    "    annotation_converter(xml_path, image_path, output_dir)"
   ]
  },
  {
   "cell_type": "code",
   "execution_count": null,
   "metadata": {},
   "outputs": [],
   "source": [
    "annotations = 0\n",
    "for file in os.listdir(output_dir):\n",
    "    if file.endswith('.txt'):\n",
    "        with open(os.path.join(output_dir, file), 'r') as f:\n",
    "            lines = f.readlines()\n",
    "            annotations += len(lines)\n",
    "\n",
    "print(f\"Total annotation boxes: {annotations}\")"
   ]
  },
  {
   "cell_type": "code",
   "execution_count": null,
   "metadata": {},
   "outputs": [],
   "source": []
  }
 ],
 "metadata": {
  "kernelspec": {
   "display_name": "Python 3",
   "language": "python",
   "name": "python3"
  },
  "language_info": {
   "codemirror_mode": {
    "name": "ipython",
    "version": 3
   },
   "file_extension": ".py",
   "mimetype": "text/x-python",
   "name": "python",
   "nbconvert_exporter": "python",
   "pygments_lexer": "ipython3",
   "version": "3.9.6"
  }
 },
 "nbformat": 4,
 "nbformat_minor": 2
}
